{
 "cells": [
  {
   "cell_type": "code",
   "execution_count": 3,
   "id": "9b317f1d",
   "metadata": {},
   "outputs": [],
   "source": [
    "import numpy as np\n",
    "import pandas as pd\n",
    "data=pd.read_csv(r\"E:\\all_grains_data.csv\")\n",
    "data\n",
    "datac=data"
   ]
  },
  {
   "cell_type": "code",
   "execution_count": 10,
   "id": "6e5d0cbb",
   "metadata": {},
   "outputs": [
    {
     "data": {
      "text/html": [
       "<div>\n",
       "<style scoped>\n",
       "    .dataframe tbody tr th:only-of-type {\n",
       "        vertical-align: middle;\n",
       "    }\n",
       "\n",
       "    .dataframe tbody tr th {\n",
       "        vertical-align: top;\n",
       "    }\n",
       "\n",
       "    .dataframe thead th {\n",
       "        text-align: right;\n",
       "    }\n",
       "</style>\n",
       "<table border=\"1\" class=\"dataframe\">\n",
       "  <thead>\n",
       "    <tr style=\"text-align: right;\">\n",
       "      <th></th>\n",
       "      <th>ticker</th>\n",
       "      <th>commodity</th>\n",
       "      <th>date</th>\n",
       "      <th>open</th>\n",
       "      <th>high</th>\n",
       "      <th>low</th>\n",
       "      <th>close</th>\n",
       "      <th>volume</th>\n",
       "    </tr>\n",
       "  </thead>\n",
       "  <tbody>\n",
       "    <tr>\n",
       "      <th>0</th>\n",
       "      <td>ZC=F</td>\n",
       "      <td>Corn</td>\n",
       "      <td>2000-07-17</td>\n",
       "      <td>182.25</td>\n",
       "      <td>182.25</td>\n",
       "      <td>178.25</td>\n",
       "      <td>179.25</td>\n",
       "      <td>19385</td>\n",
       "    </tr>\n",
       "    <tr>\n",
       "      <th>1</th>\n",
       "      <td>ZC=F</td>\n",
       "      <td>Corn</td>\n",
       "      <td>2000-07-18</td>\n",
       "      <td>179.00</td>\n",
       "      <td>183.25</td>\n",
       "      <td>179.00</td>\n",
       "      <td>180.75</td>\n",
       "      <td>25205</td>\n",
       "    </tr>\n",
       "    <tr>\n",
       "      <th>2</th>\n",
       "      <td>ZC=F</td>\n",
       "      <td>Corn</td>\n",
       "      <td>2000-07-19</td>\n",
       "      <td>180.00</td>\n",
       "      <td>182.75</td>\n",
       "      <td>178.75</td>\n",
       "      <td>182.00</td>\n",
       "      <td>17126</td>\n",
       "    </tr>\n",
       "    <tr>\n",
       "      <th>3</th>\n",
       "      <td>ZC=F</td>\n",
       "      <td>Corn</td>\n",
       "      <td>2000-07-20</td>\n",
       "      <td>181.50</td>\n",
       "      <td>187.00</td>\n",
       "      <td>181.00</td>\n",
       "      <td>186.00</td>\n",
       "      <td>18742</td>\n",
       "    </tr>\n",
       "    <tr>\n",
       "      <th>4</th>\n",
       "      <td>ZC=F</td>\n",
       "      <td>Corn</td>\n",
       "      <td>2000-07-21</td>\n",
       "      <td>185.50</td>\n",
       "      <td>188.00</td>\n",
       "      <td>185.00</td>\n",
       "      <td>187.75</td>\n",
       "      <td>16814</td>\n",
       "    </tr>\n",
       "    <tr>\n",
       "      <th>...</th>\n",
       "      <td>...</td>\n",
       "      <td>...</td>\n",
       "      <td>...</td>\n",
       "      <td>...</td>\n",
       "      <td>...</td>\n",
       "      <td>...</td>\n",
       "      <td>...</td>\n",
       "      <td>...</td>\n",
       "    </tr>\n",
       "    <tr>\n",
       "      <th>9995</th>\n",
       "      <td>ZO=F</td>\n",
       "      <td>Oat</td>\n",
       "      <td>2017-06-19</td>\n",
       "      <td>267.50</td>\n",
       "      <td>272.25</td>\n",
       "      <td>263.25</td>\n",
       "      <td>268.25</td>\n",
       "      <td>492</td>\n",
       "    </tr>\n",
       "    <tr>\n",
       "      <th>9996</th>\n",
       "      <td>ZO=F</td>\n",
       "      <td>Oat</td>\n",
       "      <td>2017-06-20</td>\n",
       "      <td>269.25</td>\n",
       "      <td>270.00</td>\n",
       "      <td>261.00</td>\n",
       "      <td>261.25</td>\n",
       "      <td>816</td>\n",
       "    </tr>\n",
       "    <tr>\n",
       "      <th>9997</th>\n",
       "      <td>ZO=F</td>\n",
       "      <td>Oat</td>\n",
       "      <td>2017-06-21</td>\n",
       "      <td>266.50</td>\n",
       "      <td>266.50</td>\n",
       "      <td>257.75</td>\n",
       "      <td>258.75</td>\n",
       "      <td>383</td>\n",
       "    </tr>\n",
       "    <tr>\n",
       "      <th>9998</th>\n",
       "      <td>ZO=F</td>\n",
       "      <td>Oat</td>\n",
       "      <td>2017-06-22</td>\n",
       "      <td>258.00</td>\n",
       "      <td>261.00</td>\n",
       "      <td>255.00</td>\n",
       "      <td>257.25</td>\n",
       "      <td>458</td>\n",
       "    </tr>\n",
       "    <tr>\n",
       "      <th>9999</th>\n",
       "      <td>ZO=F</td>\n",
       "      <td>Oat</td>\n",
       "      <td>2017-06-23</td>\n",
       "      <td>256.75</td>\n",
       "      <td>260.50</td>\n",
       "      <td>252.00</td>\n",
       "      <td>254.50</td>\n",
       "      <td>1390</td>\n",
       "    </tr>\n",
       "  </tbody>\n",
       "</table>\n",
       "<p>10000 rows × 8 columns</p>\n",
       "</div>"
      ],
      "text/plain": [
       "     ticker commodity        date    open    high     low   close  volume\n",
       "0      ZC=F      Corn  2000-07-17  182.25  182.25  178.25  179.25   19385\n",
       "1      ZC=F      Corn  2000-07-18  179.00  183.25  179.00  180.75   25205\n",
       "2      ZC=F      Corn  2000-07-19  180.00  182.75  178.75  182.00   17126\n",
       "3      ZC=F      Corn  2000-07-20  181.50  187.00  181.00  186.00   18742\n",
       "4      ZC=F      Corn  2000-07-21  185.50  188.00  185.00  187.75   16814\n",
       "...     ...       ...         ...     ...     ...     ...     ...     ...\n",
       "9995   ZO=F       Oat  2017-06-19  267.50  272.25  263.25  268.25     492\n",
       "9996   ZO=F       Oat  2017-06-20  269.25  270.00  261.00  261.25     816\n",
       "9997   ZO=F       Oat  2017-06-21  266.50  266.50  257.75  258.75     383\n",
       "9998   ZO=F       Oat  2017-06-22  258.00  261.00  255.00  257.25     458\n",
       "9999   ZO=F       Oat  2017-06-23  256.75  260.50  252.00  254.50    1390\n",
       "\n",
       "[10000 rows x 8 columns]"
      ]
     },
     "execution_count": 10,
     "metadata": {},
     "output_type": "execute_result"
    }
   ],
   "source": [
    "#Which commodity was having the highest opening price for the day.\n",
    "data.head(10000)\n"
   ]
  },
  {
   "cell_type": "code",
   "execution_count": 7,
   "id": "fc3d1aec",
   "metadata": {},
   "outputs": [
    {
     "data": {
      "text/html": [
       "<div>\n",
       "<style scoped>\n",
       "    .dataframe tbody tr th:only-of-type {\n",
       "        vertical-align: middle;\n",
       "    }\n",
       "\n",
       "    .dataframe tbody tr th {\n",
       "        vertical-align: top;\n",
       "    }\n",
       "\n",
       "    .dataframe thead th {\n",
       "        text-align: right;\n",
       "    }\n",
       "</style>\n",
       "<table border=\"1\" class=\"dataframe\">\n",
       "  <thead>\n",
       "    <tr style=\"text-align: right;\">\n",
       "      <th></th>\n",
       "      <th>ticker</th>\n",
       "      <th>commodity</th>\n",
       "      <th>date</th>\n",
       "      <th>open</th>\n",
       "      <th>high</th>\n",
       "      <th>low</th>\n",
       "      <th>close</th>\n",
       "      <th>volume</th>\n",
       "    </tr>\n",
       "  </thead>\n",
       "  <tbody>\n",
       "    <tr>\n",
       "      <th>34878</th>\n",
       "      <td>ZS=F</td>\n",
       "      <td>Soybean</td>\n",
       "      <td>2023-09-11</td>\n",
       "      <td>1352.50</td>\n",
       "      <td>1352.50</td>\n",
       "      <td>1352.00</td>\n",
       "      <td>1352.50</td>\n",
       "      <td>36</td>\n",
       "    </tr>\n",
       "    <tr>\n",
       "      <th>34879</th>\n",
       "      <td>ZS=F</td>\n",
       "      <td>Soybean</td>\n",
       "      <td>2023-09-12</td>\n",
       "      <td>1348.75</td>\n",
       "      <td>1348.75</td>\n",
       "      <td>1331.75</td>\n",
       "      <td>1331.75</td>\n",
       "      <td>274</td>\n",
       "    </tr>\n",
       "    <tr>\n",
       "      <th>34880</th>\n",
       "      <td>ZS=F</td>\n",
       "      <td>Soybean</td>\n",
       "      <td>2023-09-13</td>\n",
       "      <td>1325.50</td>\n",
       "      <td>1336.00</td>\n",
       "      <td>1325.50</td>\n",
       "      <td>1336.00</td>\n",
       "      <td>201</td>\n",
       "    </tr>\n",
       "    <tr>\n",
       "      <th>34881</th>\n",
       "      <td>ZS=F</td>\n",
       "      <td>Soybean</td>\n",
       "      <td>2023-09-14</td>\n",
       "      <td>1343.75</td>\n",
       "      <td>1343.75</td>\n",
       "      <td>1343.75</td>\n",
       "      <td>1343.75</td>\n",
       "      <td>138778</td>\n",
       "    </tr>\n",
       "    <tr>\n",
       "      <th>34882</th>\n",
       "      <td>ZS=F</td>\n",
       "      <td>Soybean</td>\n",
       "      <td>2023-09-15</td>\n",
       "      <td>1360.50</td>\n",
       "      <td>1367.75</td>\n",
       "      <td>1338.25</td>\n",
       "      <td>1340.25</td>\n",
       "      <td>138778</td>\n",
       "    </tr>\n",
       "  </tbody>\n",
       "</table>\n",
       "</div>"
      ],
      "text/plain": [
       "      ticker commodity        date     open     high      low    close  volume\n",
       "34878   ZS=F   Soybean  2023-09-11  1352.50  1352.50  1352.00  1352.50      36\n",
       "34879   ZS=F   Soybean  2023-09-12  1348.75  1348.75  1331.75  1331.75     274\n",
       "34880   ZS=F   Soybean  2023-09-13  1325.50  1336.00  1325.50  1336.00     201\n",
       "34881   ZS=F   Soybean  2023-09-14  1343.75  1343.75  1343.75  1343.75  138778\n",
       "34882   ZS=F   Soybean  2023-09-15  1360.50  1367.75  1338.25  1340.25  138778"
      ]
     },
     "execution_count": 7,
     "metadata": {},
     "output_type": "execute_result"
    }
   ],
   "source": [
    "data.tail()\n"
   ]
  },
  {
   "cell_type": "code",
   "execution_count": 13,
   "id": "573db037",
   "metadata": {},
   "outputs": [
    {
     "name": "stdout",
     "output_type": "stream",
     "text": [
      "<class 'pandas.core.frame.DataFrame'>\n",
      "RangeIndex: 34883 entries, 0 to 34882\n",
      "Data columns (total 8 columns):\n",
      " #   Column     Non-Null Count  Dtype  \n",
      "---  ------     --------------  -----  \n",
      " 0   ticker     34883 non-null  object \n",
      " 1   commodity  34883 non-null  object \n",
      " 2   date       34883 non-null  object \n",
      " 3   open       34883 non-null  float64\n",
      " 4   high       34883 non-null  float64\n",
      " 5   low        34883 non-null  float64\n",
      " 6   close      34883 non-null  float64\n",
      " 7   volume     34883 non-null  int64  \n",
      "dtypes: float64(4), int64(1), object(3)\n",
      "memory usage: 2.1+ MB\n"
     ]
    }
   ],
   "source": [
    "data.info()"
   ]
  },
  {
   "cell_type": "code",
   "execution_count": 14,
   "id": "5cf111ee",
   "metadata": {},
   "outputs": [
    {
     "data": {
      "text/plain": [
       "2435.0"
      ]
     },
     "execution_count": 14,
     "metadata": {},
     "output_type": "execute_result"
    }
   ],
   "source": [
    "datac[\"open\"].max()"
   ]
  },
  {
   "cell_type": "code",
   "execution_count": 15,
   "id": "a6a64ee3",
   "metadata": {},
   "outputs": [
    {
     "data": {
      "text/html": [
       "<div>\n",
       "<style scoped>\n",
       "    .dataframe tbody tr th:only-of-type {\n",
       "        vertical-align: middle;\n",
       "    }\n",
       "\n",
       "    .dataframe tbody tr th {\n",
       "        vertical-align: top;\n",
       "    }\n",
       "\n",
       "    .dataframe thead th {\n",
       "        text-align: right;\n",
       "    }\n",
       "</style>\n",
       "<table border=\"1\" class=\"dataframe\">\n",
       "  <thead>\n",
       "    <tr style=\"text-align: right;\">\n",
       "      <th></th>\n",
       "      <th>ticker</th>\n",
       "      <th>commodity</th>\n",
       "      <th>date</th>\n",
       "      <th>open</th>\n",
       "      <th>high</th>\n",
       "      <th>low</th>\n",
       "      <th>close</th>\n",
       "      <th>volume</th>\n",
       "    </tr>\n",
       "  </thead>\n",
       "  <tbody>\n",
       "    <tr>\n",
       "      <th>19437</th>\n",
       "      <td>ZR=F</td>\n",
       "      <td>Rough Rice</td>\n",
       "      <td>2008-04-24</td>\n",
       "      <td>2435.0</td>\n",
       "      <td>2468.5</td>\n",
       "      <td>2396.0</td>\n",
       "      <td>2396.0</td>\n",
       "      <td>1218</td>\n",
       "    </tr>\n",
       "  </tbody>\n",
       "</table>\n",
       "</div>"
      ],
      "text/plain": [
       "      ticker   commodity        date    open    high     low   close  volume\n",
       "19437   ZR=F  Rough Rice  2008-04-24  2435.0  2468.5  2396.0  2396.0    1218"
      ]
     },
     "execution_count": 15,
     "metadata": {},
     "output_type": "execute_result"
    }
   ],
   "source": [
    "datac.loc[datac[\"open\"]==2435.0]"
   ]
  },
  {
   "cell_type": "code",
   "execution_count": null,
   "id": "45172221",
   "metadata": {},
   "outputs": [],
   "source": [
    "#Rough Rice commodity has the highest commodity price"
   ]
  },
  {
   "cell_type": "code",
   "execution_count": 24,
   "id": "84f60a06",
   "metadata": {},
   "outputs": [
    {
     "data": {
      "text/plain": [
       "2468.5"
      ]
     },
     "execution_count": 24,
     "metadata": {},
     "output_type": "execute_result"
    }
   ],
   "source": [
    "#Which commodity price reached  maximum during the trading session.\n",
    "datac[\"high\"].max()\n"
   ]
  },
  {
   "cell_type": "code",
   "execution_count": 25,
   "id": "06f1daf0",
   "metadata": {},
   "outputs": [
    {
     "data": {
      "text/html": [
       "<div>\n",
       "<style scoped>\n",
       "    .dataframe tbody tr th:only-of-type {\n",
       "        vertical-align: middle;\n",
       "    }\n",
       "\n",
       "    .dataframe tbody tr th {\n",
       "        vertical-align: top;\n",
       "    }\n",
       "\n",
       "    .dataframe thead th {\n",
       "        text-align: right;\n",
       "    }\n",
       "</style>\n",
       "<table border=\"1\" class=\"dataframe\">\n",
       "  <thead>\n",
       "    <tr style=\"text-align: right;\">\n",
       "      <th></th>\n",
       "      <th>ticker</th>\n",
       "      <th>commodity</th>\n",
       "      <th>date</th>\n",
       "      <th>open</th>\n",
       "      <th>high</th>\n",
       "      <th>low</th>\n",
       "      <th>close</th>\n",
       "      <th>volume</th>\n",
       "    </tr>\n",
       "  </thead>\n",
       "  <tbody>\n",
       "    <tr>\n",
       "      <th>19437</th>\n",
       "      <td>ZR=F</td>\n",
       "      <td>Rough Rice</td>\n",
       "      <td>2008-04-24</td>\n",
       "      <td>2435.0</td>\n",
       "      <td>2468.5</td>\n",
       "      <td>2396.0</td>\n",
       "      <td>2396.0</td>\n",
       "      <td>1218</td>\n",
       "    </tr>\n",
       "  </tbody>\n",
       "</table>\n",
       "</div>"
      ],
      "text/plain": [
       "      ticker   commodity        date    open    high     low   close  volume\n",
       "19437   ZR=F  Rough Rice  2008-04-24  2435.0  2468.5  2396.0  2396.0    1218"
      ]
     },
     "execution_count": 25,
     "metadata": {},
     "output_type": "execute_result"
    }
   ],
   "source": [
    "datac.loc[datac['high']==2468.5]"
   ]
  },
  {
   "cell_type": "code",
   "execution_count": null,
   "id": "93878a48",
   "metadata": {},
   "outputs": [],
   "source": [
    "#Rough Rice price reached maximum during the trading session"
   ]
  },
  {
   "cell_type": "code",
   "execution_count": 57,
   "id": "be2a6d9a",
   "metadata": {},
   "outputs": [
    {
     "data": {
      "text/plain": [
       "275.11607142857144"
      ]
     },
     "execution_count": 57,
     "metadata": {},
     "output_type": "execute_result"
    }
   ],
   "source": [
    "#What is the average Market's opening price for the Oat in 2010\n",
    "datac['date']=pd.to_datetime(datac['date'])\n",
    "a=(datac[\"commodity\"]==\"Oat\")&(datac[\"date\"]<='2010-12-31')&(datac[\"date\"]>='2010-1-1')\n",
    "datac.loc[a]['open'].mean()\n",
    "\n"
   ]
  },
  {
   "cell_type": "code",
   "execution_count": null,
   "id": "181660e2",
   "metadata": {},
   "outputs": [],
   "source": [
    "#275.116071428 is the average markets opening price for the oat in the year 2010"
   ]
  },
  {
   "cell_type": "code",
   "execution_count": 27,
   "id": "d2245bfb",
   "metadata": {},
   "outputs": [
    {
     "data": {
      "text/plain": [
       "252221"
      ]
     },
     "execution_count": 27,
     "metadata": {},
     "output_type": "execute_result"
    }
   ],
   "source": [
    "#What is the maximum and minimum Number of contracts traded during the 2009 \n",
    "\n",
    "a=(datac[\"date\"]>='2009-01-01')&(datac[\"date\"]<='2009-12-31')\n",
    "datac.loc[a]['volume'].max()"
   ]
  },
  {
   "cell_type": "code",
   "execution_count": 31,
   "id": "fd25b87e",
   "metadata": {},
   "outputs": [
    {
     "data": {
      "text/plain": [
       "0"
      ]
     },
     "execution_count": 31,
     "metadata": {},
     "output_type": "execute_result"
    }
   ],
   "source": [
    "\n",
    "\n",
    "a=(datac[\"date\"]>='2009-01-01')&(datac[\"date\"]<='2009-12-31')\n",
    "datac.loc[a]['volume'].min()"
   ]
  },
  {
   "cell_type": "code",
   "execution_count": null,
   "id": "8a0f85ec",
   "metadata": {},
   "outputs": [],
   "source": [
    "#252221 is the maximum and 0 is the minimum no of contracts traded respectively"
   ]
  },
  {
   "cell_type": "code",
   "execution_count": 32,
   "id": "92a38962",
   "metadata": {},
   "outputs": [
    {
     "data": {
      "text/plain": [
       "0"
      ]
     },
     "execution_count": 32,
     "metadata": {},
     "output_type": "execute_result"
    }
   ],
   "source": [
    "#Which year have  maximum and minimum Number of contracts traded\n",
    "datac[\"volume\"].min()"
   ]
  },
  {
   "cell_type": "code",
   "execution_count": 33,
   "id": "5b25c54b",
   "metadata": {},
   "outputs": [
    {
     "data": {
      "text/plain": [
       "523849"
      ]
     },
     "execution_count": 33,
     "metadata": {},
     "output_type": "execute_result"
    }
   ],
   "source": [
    "datac[\"volume\"].max()"
   ]
  },
  {
   "cell_type": "code",
   "execution_count": 36,
   "id": "8fcb1149",
   "metadata": {},
   "outputs": [
    {
     "data": {
      "text/html": [
       "<div>\n",
       "<style scoped>\n",
       "    .dataframe tbody tr th:only-of-type {\n",
       "        vertical-align: middle;\n",
       "    }\n",
       "\n",
       "    .dataframe tbody tr th {\n",
       "        vertical-align: top;\n",
       "    }\n",
       "\n",
       "    .dataframe thead th {\n",
       "        text-align: right;\n",
       "    }\n",
       "</style>\n",
       "<table border=\"1\" class=\"dataframe\">\n",
       "  <thead>\n",
       "    <tr style=\"text-align: right;\">\n",
       "      <th></th>\n",
       "      <th>ticker</th>\n",
       "      <th>commodity</th>\n",
       "      <th>date</th>\n",
       "      <th>open</th>\n",
       "      <th>high</th>\n",
       "      <th>low</th>\n",
       "      <th>close</th>\n",
       "      <th>volume</th>\n",
       "    </tr>\n",
       "  </thead>\n",
       "  <tbody>\n",
       "    <tr>\n",
       "      <th>821</th>\n",
       "      <td>ZC=F</td>\n",
       "      <td>Corn</td>\n",
       "      <td>2003-12-11</td>\n",
       "      <td>250.50</td>\n",
       "      <td>253.00</td>\n",
       "      <td>247.00</td>\n",
       "      <td>252.00</td>\n",
       "      <td>0</td>\n",
       "    </tr>\n",
       "    <tr>\n",
       "      <th>1328</th>\n",
       "      <td>ZC=F</td>\n",
       "      <td>Corn</td>\n",
       "      <td>2005-12-13</td>\n",
       "      <td>195.50</td>\n",
       "      <td>195.50</td>\n",
       "      <td>195.50</td>\n",
       "      <td>195.50</td>\n",
       "      <td>0</td>\n",
       "    </tr>\n",
       "    <tr>\n",
       "      <th>4486</th>\n",
       "      <td>ZC=F</td>\n",
       "      <td>Corn</td>\n",
       "      <td>2018-07-03</td>\n",
       "      <td>340.25</td>\n",
       "      <td>345.25</td>\n",
       "      <td>339.25</td>\n",
       "      <td>342.75</td>\n",
       "      <td>0</td>\n",
       "    </tr>\n",
       "    <tr>\n",
       "      <th>4528</th>\n",
       "      <td>ZC=F</td>\n",
       "      <td>Corn</td>\n",
       "      <td>2018-08-31</td>\n",
       "      <td>341.00</td>\n",
       "      <td>352.00</td>\n",
       "      <td>340.75</td>\n",
       "      <td>351.00</td>\n",
       "      <td>0</td>\n",
       "    </tr>\n",
       "    <tr>\n",
       "      <th>5682</th>\n",
       "      <td>ZC=F</td>\n",
       "      <td>Corn</td>\n",
       "      <td>2023-04-06</td>\n",
       "      <td>652.25</td>\n",
       "      <td>652.50</td>\n",
       "      <td>641.75</td>\n",
       "      <td>643.50</td>\n",
       "      <td>0</td>\n",
       "    </tr>\n",
       "    <tr>\n",
       "      <th>...</th>\n",
       "      <td>...</td>\n",
       "      <td>...</td>\n",
       "      <td>...</td>\n",
       "      <td>...</td>\n",
       "      <td>...</td>\n",
       "      <td>...</td>\n",
       "      <td>...</td>\n",
       "      <td>...</td>\n",
       "    </tr>\n",
       "    <tr>\n",
       "      <th>29219</th>\n",
       "      <td>ZS=F</td>\n",
       "      <td>Soybean</td>\n",
       "      <td>2001-03-13</td>\n",
       "      <td>455.00</td>\n",
       "      <td>455.00</td>\n",
       "      <td>455.00</td>\n",
       "      <td>459.00</td>\n",
       "      <td>0</td>\n",
       "    </tr>\n",
       "    <tr>\n",
       "      <th>30306</th>\n",
       "      <td>ZS=F</td>\n",
       "      <td>Soybean</td>\n",
       "      <td>2005-07-12</td>\n",
       "      <td>698.50</td>\n",
       "      <td>698.50</td>\n",
       "      <td>698.50</td>\n",
       "      <td>698.50</td>\n",
       "      <td>0</td>\n",
       "    </tr>\n",
       "    <tr>\n",
       "      <th>33573</th>\n",
       "      <td>ZS=F</td>\n",
       "      <td>Soybean</td>\n",
       "      <td>2018-07-03</td>\n",
       "      <td>849.50</td>\n",
       "      <td>852.75</td>\n",
       "      <td>843.00</td>\n",
       "      <td>844.00</td>\n",
       "      <td>0</td>\n",
       "    </tr>\n",
       "    <tr>\n",
       "      <th>33615</th>\n",
       "      <td>ZS=F</td>\n",
       "      <td>Soybean</td>\n",
       "      <td>2018-08-31</td>\n",
       "      <td>816.00</td>\n",
       "      <td>833.25</td>\n",
       "      <td>816.00</td>\n",
       "      <td>833.00</td>\n",
       "      <td>0</td>\n",
       "    </tr>\n",
       "    <tr>\n",
       "      <th>34771</th>\n",
       "      <td>ZS=F</td>\n",
       "      <td>Soybean</td>\n",
       "      <td>2023-04-06</td>\n",
       "      <td>1510.00</td>\n",
       "      <td>1510.25</td>\n",
       "      <td>1483.25</td>\n",
       "      <td>1492.50</td>\n",
       "      <td>0</td>\n",
       "    </tr>\n",
       "  </tbody>\n",
       "</table>\n",
       "<p>2812 rows × 8 columns</p>\n",
       "</div>"
      ],
      "text/plain": [
       "      ticker commodity        date     open     high      low    close  volume\n",
       "821     ZC=F      Corn  2003-12-11   250.50   253.00   247.00   252.00       0\n",
       "1328    ZC=F      Corn  2005-12-13   195.50   195.50   195.50   195.50       0\n",
       "4486    ZC=F      Corn  2018-07-03   340.25   345.25   339.25   342.75       0\n",
       "4528    ZC=F      Corn  2018-08-31   341.00   352.00   340.75   351.00       0\n",
       "5682    ZC=F      Corn  2023-04-06   652.25   652.50   641.75   643.50       0\n",
       "...      ...       ...         ...      ...      ...      ...      ...     ...\n",
       "29219   ZS=F   Soybean  2001-03-13   455.00   455.00   455.00   459.00       0\n",
       "30306   ZS=F   Soybean  2005-07-12   698.50   698.50   698.50   698.50       0\n",
       "33573   ZS=F   Soybean  2018-07-03   849.50   852.75   843.00   844.00       0\n",
       "33615   ZS=F   Soybean  2018-08-31   816.00   833.25   816.00   833.00       0\n",
       "34771   ZS=F   Soybean  2023-04-06  1510.00  1510.25  1483.25  1492.50       0\n",
       "\n",
       "[2812 rows x 8 columns]"
      ]
     },
     "execution_count": 36,
     "metadata": {},
     "output_type": "execute_result"
    }
   ],
   "source": [
    "datac.loc[datac['volume']==0]"
   ]
  },
  {
   "cell_type": "code",
   "execution_count": 49,
   "id": "bcc3854d",
   "metadata": {},
   "outputs": [
    {
     "data": {
      "text/html": [
       "<div>\n",
       "<style scoped>\n",
       "    .dataframe tbody tr th:only-of-type {\n",
       "        vertical-align: middle;\n",
       "    }\n",
       "\n",
       "    .dataframe tbody tr th {\n",
       "        vertical-align: top;\n",
       "    }\n",
       "\n",
       "    .dataframe thead th {\n",
       "        text-align: right;\n",
       "    }\n",
       "</style>\n",
       "<table border=\"1\" class=\"dataframe\">\n",
       "  <thead>\n",
       "    <tr style=\"text-align: right;\">\n",
       "      <th></th>\n",
       "      <th>ticker</th>\n",
       "      <th>commodity</th>\n",
       "      <th>date</th>\n",
       "      <th>open</th>\n",
       "      <th>high</th>\n",
       "      <th>low</th>\n",
       "      <th>close</th>\n",
       "      <th>volume</th>\n",
       "    </tr>\n",
       "  </thead>\n",
       "  <tbody>\n",
       "    <tr>\n",
       "      <th>98</th>\n",
       "      <td>ZC=F</td>\n",
       "      <td>Corn</td>\n",
       "      <td>2001-01-02</td>\n",
       "      <td>221.00</td>\n",
       "      <td>221.00</td>\n",
       "      <td>221.0</td>\n",
       "      <td>222.50</td>\n",
       "      <td>1466</td>\n",
       "    </tr>\n",
       "    <tr>\n",
       "      <th>99</th>\n",
       "      <td>ZC=F</td>\n",
       "      <td>Corn</td>\n",
       "      <td>2001-01-16</td>\n",
       "      <td>219.00</td>\n",
       "      <td>219.00</td>\n",
       "      <td>217.5</td>\n",
       "      <td>218.50</td>\n",
       "      <td>957</td>\n",
       "    </tr>\n",
       "    <tr>\n",
       "      <th>100</th>\n",
       "      <td>ZC=F</td>\n",
       "      <td>Corn</td>\n",
       "      <td>2001-01-17</td>\n",
       "      <td>216.00</td>\n",
       "      <td>217.00</td>\n",
       "      <td>215.5</td>\n",
       "      <td>216.25</td>\n",
       "      <td>519</td>\n",
       "    </tr>\n",
       "    <tr>\n",
       "      <th>101</th>\n",
       "      <td>ZC=F</td>\n",
       "      <td>Corn</td>\n",
       "      <td>2001-01-18</td>\n",
       "      <td>217.50</td>\n",
       "      <td>219.00</td>\n",
       "      <td>217.5</td>\n",
       "      <td>218.75</td>\n",
       "      <td>940</td>\n",
       "    </tr>\n",
       "    <tr>\n",
       "      <th>102</th>\n",
       "      <td>ZC=F</td>\n",
       "      <td>Corn</td>\n",
       "      <td>2001-01-19</td>\n",
       "      <td>218.25</td>\n",
       "      <td>219.50</td>\n",
       "      <td>218.0</td>\n",
       "      <td>218.50</td>\n",
       "      <td>519</td>\n",
       "    </tr>\n",
       "    <tr>\n",
       "      <th>...</th>\n",
       "      <td>...</td>\n",
       "      <td>...</td>\n",
       "      <td>...</td>\n",
       "      <td>...</td>\n",
       "      <td>...</td>\n",
       "      <td>...</td>\n",
       "      <td>...</td>\n",
       "      <td>...</td>\n",
       "    </tr>\n",
       "    <tr>\n",
       "      <th>30423</th>\n",
       "      <td>ZS=F</td>\n",
       "      <td>Soybean</td>\n",
       "      <td>2005-12-23</td>\n",
       "      <td>612.50</td>\n",
       "      <td>615.25</td>\n",
       "      <td>611.5</td>\n",
       "      <td>613.00</td>\n",
       "      <td>598</td>\n",
       "    </tr>\n",
       "    <tr>\n",
       "      <th>30424</th>\n",
       "      <td>ZS=F</td>\n",
       "      <td>Soybean</td>\n",
       "      <td>2005-12-27</td>\n",
       "      <td>613.75</td>\n",
       "      <td>619.50</td>\n",
       "      <td>606.5</td>\n",
       "      <td>611.50</td>\n",
       "      <td>300</td>\n",
       "    </tr>\n",
       "    <tr>\n",
       "      <th>30425</th>\n",
       "      <td>ZS=F</td>\n",
       "      <td>Soybean</td>\n",
       "      <td>2005-12-28</td>\n",
       "      <td>611.00</td>\n",
       "      <td>613.50</td>\n",
       "      <td>607.5</td>\n",
       "      <td>611.00</td>\n",
       "      <td>150</td>\n",
       "    </tr>\n",
       "    <tr>\n",
       "      <th>30426</th>\n",
       "      <td>ZS=F</td>\n",
       "      <td>Soybean</td>\n",
       "      <td>2005-12-29</td>\n",
       "      <td>610.00</td>\n",
       "      <td>610.00</td>\n",
       "      <td>605.5</td>\n",
       "      <td>597.75</td>\n",
       "      <td>129</td>\n",
       "    </tr>\n",
       "    <tr>\n",
       "      <th>30427</th>\n",
       "      <td>ZS=F</td>\n",
       "      <td>Soybean</td>\n",
       "      <td>2005-12-30</td>\n",
       "      <td>596.50</td>\n",
       "      <td>597.50</td>\n",
       "      <td>595.0</td>\n",
       "      <td>602.00</td>\n",
       "      <td>132</td>\n",
       "    </tr>\n",
       "  </tbody>\n",
       "</table>\n",
       "<p>7330 rows × 8 columns</p>\n",
       "</div>"
      ],
      "text/plain": [
       "      ticker commodity        date    open    high    low   close  volume\n",
       "98      ZC=F      Corn  2001-01-02  221.00  221.00  221.0  222.50    1466\n",
       "99      ZC=F      Corn  2001-01-16  219.00  219.00  217.5  218.50     957\n",
       "100     ZC=F      Corn  2001-01-17  216.00  217.00  215.5  216.25     519\n",
       "101     ZC=F      Corn  2001-01-18  217.50  219.00  217.5  218.75     940\n",
       "102     ZC=F      Corn  2001-01-19  218.25  219.50  218.0  218.50     519\n",
       "...      ...       ...         ...     ...     ...    ...     ...     ...\n",
       "30423   ZS=F   Soybean  2005-12-23  612.50  615.25  611.5  613.00     598\n",
       "30424   ZS=F   Soybean  2005-12-27  613.75  619.50  606.5  611.50     300\n",
       "30425   ZS=F   Soybean  2005-12-28  611.00  613.50  607.5  611.00     150\n",
       "30426   ZS=F   Soybean  2005-12-29  610.00  610.00  605.5  597.75     129\n",
       "30427   ZS=F   Soybean  2005-12-30  596.50  597.50  595.0  602.00     132\n",
       "\n",
       "[7330 rows x 8 columns]"
      ]
     },
     "execution_count": 49,
     "metadata": {},
     "output_type": "execute_result"
    }
   ],
   "source": [
    "#Which commodity have the average lowest opening price around 2001 to 2005\n",
    "a=(datac[\"date\"]>='2001-01-01')&(datac[\"date\"]<='2005-12-31')\n",
    "b=datac.loc[a]\n",
    "b"
   ]
  },
  {
   "cell_type": "code",
   "execution_count": null,
   "id": "3ab74ff7",
   "metadata": {},
   "outputs": [],
   "source": []
  },
  {
   "cell_type": "code",
   "execution_count": 50,
   "id": "667b7fe5",
   "metadata": {},
   "outputs": [
    {
     "data": {
      "text/plain": [
       "commodity\n",
       "Corn            226.167136\n",
       "KC HRW Wheat    343.651033\n",
       "Oat             159.646309\n",
       "Rough Rice      616.746411\n",
       "Soybean         594.099841\n",
       "Soybean Oil      21.416110\n",
       "Name: open, dtype: float64"
      ]
     },
     "execution_count": 50,
     "metadata": {},
     "output_type": "execute_result"
    }
   ],
   "source": [
    "c=b.groupby(\"commodity\")\n",
    "e=c['open'].mean()\n",
    "e"
   ]
  },
  {
   "cell_type": "code",
   "execution_count": null,
   "id": "b8974764",
   "metadata": {},
   "outputs": [],
   "source": [
    "#soyabean oil has low commodiity during period 2001 and 2005"
   ]
  },
  {
   "cell_type": "code",
   "execution_count": 53,
   "id": "4f9b0106",
   "metadata": {},
   "outputs": [
    {
     "data": {
      "text/plain": [
       "commodity\n",
       "Corn             409.404772\n",
       "KC HRW Wheat     563.693282\n",
       "Oat              278.657674\n",
       "Rough Rice      1143.607925\n",
       "Soybean          998.015728\n",
       "Soybean Oil       36.820361\n",
       "Name: close, dtype: float64"
      ]
     },
     "execution_count": 53,
     "metadata": {},
     "output_type": "execute_result"
    }
   ],
   "source": [
    "#Which commodity have the best average  Market's closing price\n",
    "a=datac.groupby(\"commodity\")\n",
    "a[\"close\"].mean()"
   ]
  },
  {
   "cell_type": "code",
   "execution_count": null,
   "id": "a8f0d669",
   "metadata": {},
   "outputs": [],
   "source": [
    "#Rough rice has the highest average martkets closing price"
   ]
  },
  {
   "cell_type": "code",
   "execution_count": 69,
   "id": "936bf268",
   "metadata": {},
   "outputs": [
    {
     "data": {
      "text/html": [
       "<div>\n",
       "<style scoped>\n",
       "    .dataframe tbody tr th:only-of-type {\n",
       "        vertical-align: middle;\n",
       "    }\n",
       "\n",
       "    .dataframe tbody tr th {\n",
       "        vertical-align: top;\n",
       "    }\n",
       "\n",
       "    .dataframe thead th {\n",
       "        text-align: right;\n",
       "    }\n",
       "</style>\n",
       "<table border=\"1\" class=\"dataframe\">\n",
       "  <thead>\n",
       "    <tr style=\"text-align: right;\">\n",
       "      <th></th>\n",
       "      <th>ticker</th>\n",
       "      <th>commodity</th>\n",
       "      <th>date</th>\n",
       "      <th>open</th>\n",
       "      <th>high</th>\n",
       "      <th>low</th>\n",
       "      <th>close</th>\n",
       "      <th>volume</th>\n",
       "    </tr>\n",
       "  </thead>\n",
       "  <tbody>\n",
       "    <tr>\n",
       "      <th>4216</th>\n",
       "      <td>ZC=F</td>\n",
       "      <td>Corn</td>\n",
       "      <td>2017-06-07</td>\n",
       "      <td>378.25</td>\n",
       "      <td>387.0</td>\n",
       "      <td>378.25</td>\n",
       "      <td>384.75</td>\n",
       "      <td>523849</td>\n",
       "    </tr>\n",
       "  </tbody>\n",
       "</table>\n",
       "</div>"
      ],
      "text/plain": [
       "     ticker commodity        date    open   high     low   close  volume\n",
       "4216   ZC=F      Corn  2017-06-07  378.25  387.0  378.25  384.75  523849"
      ]
     },
     "execution_count": 69,
     "metadata": {},
     "output_type": "execute_result"
    }
   ],
   "source": [
    "#Which year corn have the highest and lowest Number of contracts traded\n",
    "a=datac.loc[datac['commodity']==\"Corn\"]\n",
    "a['volume'].max()\n",
    "datac.loc[datac[\"volume\"]==523849]"
   ]
  },
  {
   "cell_type": "code",
   "execution_count": 81,
   "id": "894f8330",
   "metadata": {},
   "outputs": [
    {
     "data": {
      "text/html": [
       "<div>\n",
       "<style scoped>\n",
       "    .dataframe tbody tr th:only-of-type {\n",
       "        vertical-align: middle;\n",
       "    }\n",
       "\n",
       "    .dataframe tbody tr th {\n",
       "        vertical-align: top;\n",
       "    }\n",
       "\n",
       "    .dataframe thead th {\n",
       "        text-align: right;\n",
       "    }\n",
       "</style>\n",
       "<table border=\"1\" class=\"dataframe\">\n",
       "  <thead>\n",
       "    <tr style=\"text-align: right;\">\n",
       "      <th></th>\n",
       "      <th>ticker</th>\n",
       "      <th>commodity</th>\n",
       "      <th>date</th>\n",
       "      <th>open</th>\n",
       "      <th>high</th>\n",
       "      <th>low</th>\n",
       "      <th>close</th>\n",
       "      <th>volume</th>\n",
       "    </tr>\n",
       "  </thead>\n",
       "  <tbody>\n",
       "    <tr>\n",
       "      <th>821</th>\n",
       "      <td>ZC=F</td>\n",
       "      <td>Corn</td>\n",
       "      <td>2003-12-11</td>\n",
       "      <td>250.50</td>\n",
       "      <td>253.00</td>\n",
       "      <td>247.00</td>\n",
       "      <td>252.00</td>\n",
       "      <td>0</td>\n",
       "    </tr>\n",
       "    <tr>\n",
       "      <th>1328</th>\n",
       "      <td>ZC=F</td>\n",
       "      <td>Corn</td>\n",
       "      <td>2005-12-13</td>\n",
       "      <td>195.50</td>\n",
       "      <td>195.50</td>\n",
       "      <td>195.50</td>\n",
       "      <td>195.50</td>\n",
       "      <td>0</td>\n",
       "    </tr>\n",
       "    <tr>\n",
       "      <th>4486</th>\n",
       "      <td>ZC=F</td>\n",
       "      <td>Corn</td>\n",
       "      <td>2018-07-03</td>\n",
       "      <td>340.25</td>\n",
       "      <td>345.25</td>\n",
       "      <td>339.25</td>\n",
       "      <td>342.75</td>\n",
       "      <td>0</td>\n",
       "    </tr>\n",
       "    <tr>\n",
       "      <th>4528</th>\n",
       "      <td>ZC=F</td>\n",
       "      <td>Corn</td>\n",
       "      <td>2018-08-31</td>\n",
       "      <td>341.00</td>\n",
       "      <td>352.00</td>\n",
       "      <td>340.75</td>\n",
       "      <td>351.00</td>\n",
       "      <td>0</td>\n",
       "    </tr>\n",
       "    <tr>\n",
       "      <th>5682</th>\n",
       "      <td>ZC=F</td>\n",
       "      <td>Corn</td>\n",
       "      <td>2023-04-06</td>\n",
       "      <td>652.25</td>\n",
       "      <td>652.50</td>\n",
       "      <td>641.75</td>\n",
       "      <td>643.50</td>\n",
       "      <td>0</td>\n",
       "    </tr>\n",
       "  </tbody>\n",
       "</table>\n",
       "</div>"
      ],
      "text/plain": [
       "     ticker commodity        date    open    high     low   close  volume\n",
       "821    ZC=F      Corn  2003-12-11  250.50  253.00  247.00  252.00       0\n",
       "1328   ZC=F      Corn  2005-12-13  195.50  195.50  195.50  195.50       0\n",
       "4486   ZC=F      Corn  2018-07-03  340.25  345.25  339.25  342.75       0\n",
       "4528   ZC=F      Corn  2018-08-31  341.00  352.00  340.75  351.00       0\n",
       "5682   ZC=F      Corn  2023-04-06  652.25  652.50  641.75  643.50       0"
      ]
     },
     "execution_count": 81,
     "metadata": {},
     "output_type": "execute_result"
    }
   ],
   "source": [
    "a=datac.loc[datac['commodity']==\"Corn\"]\n",
    "a['volume'].min()\n",
    "a.loc[a['volume']==0]"
   ]
  },
  {
   "cell_type": "code",
   "execution_count": null,
   "id": "77692624",
   "metadata": {},
   "outputs": [],
   "source": [
    "#in the year 2017 corn has highest no of contracts and inthe years 2003,2005,2018 corn has the least no of contracts"
   ]
  },
  {
   "cell_type": "code",
   "execution_count": null,
   "id": "f8e13b67",
   "metadata": {},
   "outputs": [],
   "source": []
  }
 ],
 "metadata": {
  "kernelspec": {
   "display_name": "Python 3 (ipykernel)",
   "language": "python",
   "name": "python3"
  },
  "language_info": {
   "codemirror_mode": {
    "name": "ipython",
    "version": 3
   },
   "file_extension": ".py",
   "mimetype": "text/x-python",
   "name": "python",
   "nbconvert_exporter": "python",
   "pygments_lexer": "ipython3",
   "version": "3.9.13"
  }
 },
 "nbformat": 4,
 "nbformat_minor": 5
}
